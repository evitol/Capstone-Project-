{
 "cells": [
  {
   "cell_type": "markdown",
   "metadata": {},
   "source": [
    "# Analysis of business opportunities for new childcare facilities in the city of Chicago, Illinois\n"
   ]
  },
  {
   "cell_type": "markdown",
   "metadata": {},
   "source": [
    "# Author: Elina Vitol"
   ]
  },
  {
   "cell_type": "markdown",
   "metadata": {},
   "source": [
    "## Introduction/ Business problem"
   ]
  },
  {
   "cell_type": "markdown",
   "metadata": {},
   "source": [
    "Full-time childcare facilities for children aged 0 – 5 years old in the United States are private businesses. Exceptions include part-time facilities which offer morning or afternoon care, typically in a pre-school setting provided by school districts.\n",
    "\n",
    " Some of the daycares offer franchise opportunities, for example Goddard School and Kiddie Academy [1-2]. At the same time, there are a lot of independent daycare facilities which cater to specific childcare needs in selected neighborhoods. Opening a new daycare business requires a thorough analysis of the existing competition as well as the analysis of socioeconomic situation in the given neighborhood. Running a daycare is considered an attractive opportunity for people looking to own a business, providing the much-needed options for the childcare needs for families with small children [3].\n",
    " \n",
    "The city of Chicago, being the largest city in the Midwest United States, with the estimated population of 2.7 million [4], serves as a home to many different companies within the city limits. As a result, there is a large number of working parents looking for childcare arrangements in the Chicago area. According to the census data, there are approximately 175,000 children under the age of 5 in Chicago [4].\n",
    "\n",
    "The goal of this project is to create a recommendation on which of the neighborhoods in the city of Chicago would be attractive for starting a new daycare business. \n"
   ]
  },
  {
   "cell_type": "markdown",
   "metadata": {},
   "source": [
    "## Data and References"
   ]
  },
  {
   "cell_type": "markdown",
   "metadata": {},
   "source": [
    "Foursquare API [5] will be used for analyzing the neighborhood data in Chicago. There is a specific venue category for daycares (4f4532974b9074f6e4fb0104). Specifying the venue type will narrow down the results. \n",
    "\n",
    "We will explore the number of daycare facilities in the city of Chicago per neighborhood as well as the type of the facility. In addition to the Foursquare data, we will analyze the data provided by the city of Chicago about the existing early education programs [6]. \n",
    "\n",
    "Information about specific neighborhoods in the city, including neighborhood names and corresponding zipcodes is provided by the city of Chicago [7]. This data will be used for creating a map of existing childcare facilities and linking it to the socioeconomic data. The latter will be used as an indicator for the daycare price point opportunities in a given area, i.e. low income vs high income neighborhoods.\n",
    "\n",
    "The socioeconomic information, including per capita income per neighborhood is available from the Chicago census data [8]. The additional data about population demographics, such as the number of children in specific neighborhoods is available from the Chicago Public Schools [9]. \n",
    "\n",
    "## References:\n",
    "\n",
    "1.\thttps://kiddieacademy.com/franchising/\n",
    "2.\thttps://www.goddardschoolfranchise.com/franchise-cost.html\n",
    "3.\thttps://smallbiztrends.com/2017/11/child-care-franchise.html\n",
    "4.\thttps://www.census.gov/quickfacts/fact/table/chicagocityillinois,US/PST045219\n",
    "5.\thttps://developer.foursquare.com/ \n",
    "6.\thttps://data.cityofchicago.org/Education/Chicago-Early-Learning-Programs-Map/2kih-a5ex\n",
    "\n",
    "7.\thttps://data.cityofchicago.org/Facilities-Geographic-Boundaries/Chicago-Zip-Code-and-Neighborhood-Map/mapn-ahfc\n",
    "8.\thttps://data.cityofchicago.org/Health-Human-Services/Census-Data-Selected-socioeconomic-indicators-in-C/kn9c-c2s2\n",
    "9.\thttps://data.cityofchicago.org/Education/Chicago-Public-Schools-School-Profile-Information-/kh4r-387c\n"
   ]
  },
  {
   "cell_type": "code",
   "execution_count": null,
   "metadata": {},
   "outputs": [],
   "source": []
  },
  {
   "cell_type": "code",
   "execution_count": null,
   "metadata": {},
   "outputs": [],
   "source": []
  }
 ],
 "metadata": {
  "kernelspec": {
   "display_name": "Python",
   "language": "python",
   "name": "conda-env-python-py"
  },
  "language_info": {
   "codemirror_mode": {
    "name": "ipython",
    "version": 3
   },
   "file_extension": ".py",
   "mimetype": "text/x-python",
   "name": "python",
   "nbconvert_exporter": "python",
   "pygments_lexer": "ipython3",
   "version": "3.6.10"
  }
 },
 "nbformat": 4,
 "nbformat_minor": 4
}
